{
 "cells": [
  {
   "cell_type": "code",
   "execution_count": 1,
   "id": "b7478a55",
   "metadata": {},
   "outputs": [],
   "source": [
    "import pandas as pd\n",
    "df = pd.read_csv('dst_data.csv')\n",
    "df['Дата'] = df['Дата'].replace({'24:00':'23:59'}, regex=True)\n",
    "df['Дата'] = pd.to_datetime(df['Дата'])"
   ]
  },
  {
   "cell_type": "code",
   "execution_count": 2,
   "id": "42085c6c",
   "metadata": {},
   "outputs": [],
   "source": [
    "df = df.iloc[429150:]"
   ]
  },
  {
   "cell_type": "code",
   "execution_count": 3,
   "id": "11aca648",
   "metadata": {},
   "outputs": [],
   "source": [
    "df.to_csv('small_data.csv', index=False)"
   ]
  },
  {
   "cell_type": "code",
   "execution_count": null,
   "id": "47cd4cb8",
   "metadata": {},
   "outputs": [],
   "source": []
  }
 ],
 "metadata": {
  "kernelspec": {
   "display_name": "Python 3",
   "language": "python",
   "name": "python3"
  },
  "language_info": {
   "codemirror_mode": {
    "name": "ipython",
    "version": 3
   },
   "file_extension": ".py",
   "mimetype": "text/x-python",
   "name": "python",
   "nbconvert_exporter": "python",
   "pygments_lexer": "ipython3",
   "version": "3.8.10"
  }
 },
 "nbformat": 4,
 "nbformat_minor": 5
}
