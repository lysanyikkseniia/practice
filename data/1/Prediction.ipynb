{
 "cells": [
  {
   "cell_type": "code",
   "execution_count": 9,
   "id": "b8f14dad",
   "metadata": {},
   "outputs": [],
   "source": [
    "import pandas as pd\n",
    "df = pd.read_csv('dst_data.csv')\n",
    "df['Дата'] = df['Дата'].replace({'24:00':'23:59'}, regex=True)"
   ]
  },
  {
   "cell_type": "code",
   "execution_count": 10,
   "id": "88a7c63f",
   "metadata": {},
   "outputs": [
    {
     "data": {
      "text/html": [
       "<div>\n",
       "<style scoped>\n",
       "    .dataframe tbody tr th:only-of-type {\n",
       "        vertical-align: middle;\n",
       "    }\n",
       "\n",
       "    .dataframe tbody tr th {\n",
       "        vertical-align: top;\n",
       "    }\n",
       "\n",
       "    .dataframe thead th {\n",
       "        text-align: right;\n",
       "    }\n",
       "</style>\n",
       "<table border=\"1\" class=\"dataframe\">\n",
       "  <thead>\n",
       "    <tr style=\"text-align: right;\">\n",
       "      <th></th>\n",
       "      <th>Дата</th>\n",
       "      <th>Базисное значение</th>\n",
       "      <th>Среднесуточное значение</th>\n",
       "      <th>Текущее значение</th>\n",
       "    </tr>\n",
       "  </thead>\n",
       "  <tbody>\n",
       "    <tr>\n",
       "      <th>0</th>\n",
       "      <td>1957-01-01 0:00</td>\n",
       "      <td>0</td>\n",
       "      <td>4</td>\n",
       "      <td>11</td>\n",
       "    </tr>\n",
       "    <tr>\n",
       "      <th>1</th>\n",
       "      <td>1957-01-01 1:00</td>\n",
       "      <td>0</td>\n",
       "      <td>4</td>\n",
       "      <td>13</td>\n",
       "    </tr>\n",
       "    <tr>\n",
       "      <th>2</th>\n",
       "      <td>1957-01-01 2:00</td>\n",
       "      <td>0</td>\n",
       "      <td>4</td>\n",
       "      <td>12</td>\n",
       "    </tr>\n",
       "    <tr>\n",
       "      <th>3</th>\n",
       "      <td>1957-01-01 3:00</td>\n",
       "      <td>0</td>\n",
       "      <td>4</td>\n",
       "      <td>12</td>\n",
       "    </tr>\n",
       "    <tr>\n",
       "      <th>4</th>\n",
       "      <td>1957-01-01 4:00</td>\n",
       "      <td>0</td>\n",
       "      <td>4</td>\n",
       "      <td>9</td>\n",
       "    </tr>\n",
       "    <tr>\n",
       "      <th>...</th>\n",
       "      <td>...</td>\n",
       "      <td>...</td>\n",
       "      <td>...</td>\n",
       "      <td>...</td>\n",
       "    </tr>\n",
       "    <tr>\n",
       "      <th>529595</th>\n",
       "      <td>2014-12-31 20:00</td>\n",
       "      <td>0</td>\n",
       "      <td>-17</td>\n",
       "      <td>-27</td>\n",
       "    </tr>\n",
       "    <tr>\n",
       "      <th>529596</th>\n",
       "      <td>2014-12-31 21:00</td>\n",
       "      <td>0</td>\n",
       "      <td>-17</td>\n",
       "      <td>-27</td>\n",
       "    </tr>\n",
       "    <tr>\n",
       "      <th>529597</th>\n",
       "      <td>2014-12-31 22:00</td>\n",
       "      <td>0</td>\n",
       "      <td>-17</td>\n",
       "      <td>-23</td>\n",
       "    </tr>\n",
       "    <tr>\n",
       "      <th>529598</th>\n",
       "      <td>2014-12-31 23:00</td>\n",
       "      <td>0</td>\n",
       "      <td>-17</td>\n",
       "      <td>-23</td>\n",
       "    </tr>\n",
       "    <tr>\n",
       "      <th>529599</th>\n",
       "      <td>2014-12-31 23:59</td>\n",
       "      <td>0</td>\n",
       "      <td>-17</td>\n",
       "      <td>-17</td>\n",
       "    </tr>\n",
       "  </tbody>\n",
       "</table>\n",
       "<p>529600 rows × 4 columns</p>\n",
       "</div>"
      ],
      "text/plain": [
       "                    Дата  Базисное значение  Среднесуточное значение  \\\n",
       "0        1957-01-01 0:00                  0                        4   \n",
       "1        1957-01-01 1:00                  0                        4   \n",
       "2        1957-01-01 2:00                  0                        4   \n",
       "3        1957-01-01 3:00                  0                        4   \n",
       "4        1957-01-01 4:00                  0                        4   \n",
       "...                  ...                ...                      ...   \n",
       "529595  2014-12-31 20:00                  0                      -17   \n",
       "529596  2014-12-31 21:00                  0                      -17   \n",
       "529597  2014-12-31 22:00                  0                      -17   \n",
       "529598  2014-12-31 23:00                  0                      -17   \n",
       "529599  2014-12-31 23:59                  0                      -17   \n",
       "\n",
       "        Текущее значение  \n",
       "0                     11  \n",
       "1                     13  \n",
       "2                     12  \n",
       "3                     12  \n",
       "4                      9  \n",
       "...                  ...  \n",
       "529595               -27  \n",
       "529596               -27  \n",
       "529597               -23  \n",
       "529598               -23  \n",
       "529599               -17  \n",
       "\n",
       "[529600 rows x 4 columns]"
      ]
     },
     "execution_count": 10,
     "metadata": {},
     "output_type": "execute_result"
    }
   ],
   "source": [
    "df"
   ]
  },
  {
   "cell_type": "code",
   "execution_count": 11,
   "id": "89272d59",
   "metadata": {},
   "outputs": [],
   "source": [
    "df['Дата'] = pd.to_datetime(df['Дата'])"
   ]
  },
  {
   "cell_type": "code",
   "execution_count": 3,
   "id": "d9f5b634",
   "metadata": {},
   "outputs": [
    {
     "data": {
      "text/plain": [
       "Дата                       529600\n",
       "Базисное значение               1\n",
       "Среднесуточное значение       258\n",
       "Текущее значение              455\n",
       "dtype: int64"
      ]
     },
     "execution_count": 3,
     "metadata": {},
     "output_type": "execute_result"
    }
   ],
   "source": [
    "df.nunique()"
   ]
  },
  {
   "cell_type": "code",
   "execution_count": 28,
   "id": "f290eb63",
   "metadata": {},
   "outputs": [
    {
     "data": {
      "image/png": "[encoded data removed]",
      "text/plain": [
       "<Figure size 432x288 with 1 Axes>"
      ]
     },
     "metadata": {
      "needs_background": "light"
     },
     "output_type": "display_data"
    }
   ],
   "source": [
    "import matplotlib.pyplot as plt\n",
    "\n",
    "plt.plot(df['Среднесуточное значение'][-80000:], )\n",
    "plt.plot(df['Дата'][-80000:])\n",
    "\n",
    "plt.xlabel(\"Date\")\n",
    "plt.ylabel(\"Temp in Faherenheit\")\n",
    "plt.title(\"Pandas Time Series Plot\")\n",
    "\n",
    "plt.show()"
   ]
  },
  {
   "cell_type": "code",
   "execution_count": null,
   "id": "0ed16eeb",
   "metadata": {},
   "outputs": [],
   "source": []
  }
 ],
 "metadata": {
  "kernelspec": {
   "display_name": "Python 3",
   "language": "python",
   "name": "python3"
  },
  "language_info": {
   "codemirror_mode": {
    "name": "ipython",
    "version": 3
   },
   "file_extension": ".py",
   "mimetype": "text/x-python",
   "name": "python",
   "nbconvert_exporter": "python",
   "pygments_lexer": "ipython3",
   "version": "3.8.10"
  }
 },
 "nbformat": 4,
 "nbformat_minor": 5
}
